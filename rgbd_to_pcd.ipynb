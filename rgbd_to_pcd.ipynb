{
 "cells": [
  {
   "cell_type": "code",
   "execution_count": 1,
   "metadata": {},
   "outputs": [
    {
     "name": "stdout",
     "output_type": "stream",
     "text": [
      "Jupyter environment detected. Enabling Open3D WebVisualizer.\n",
      "[Open3D INFO] WebRTC GUI backend enabled.\n",
      "[Open3D INFO] WebRTCWindowSystem: HTTP handshake server disabled.\n"
     ]
    }
   ],
   "source": [
    "import open3d as o3d"
   ]
  },
  {
   "cell_type": "code",
   "execution_count": null,
   "metadata": {},
   "outputs": [],
   "source": [
    "#chose few images in different orientations and generated the point clouds for it and saved it in a different folder.\n",
    "#From this folder, the pcd images are used for global and local registration. \n",
    "pcd_combined = o3d.geometry.PointCloud()\n",
    "k=0\n",
    "for i in [0,11,23,68,80,90,111,125]:\n",
    "    color_raw1 = o3d.io.read_image(\"D:/sem2/intern/workspace/apple/y_rgb/rgb%d.png\" %i)\n",
    "    depth_raw1 = o3d.io.read_image(\"D:/sem2/intern/workspace/apple/y_depth/depth%d.png\" %i)\n",
    "    rgbd_image1 = o3d.geometry.RGBDImage.create_from_color_and_depth(color_raw1, depth_raw1, convert_rgb_to_intensity=False)\n",
    "    pcd1 = o3d.geometry.PointCloud.create_from_rgbd_image(\n",
    "     rgbd_image1,\n",
    "     o3d.camera.PinholeCameraIntrinsic(\n",
    "         o3d.camera.PinholeCameraIntrinsicParameters.PrimeSenseDefault))\n",
    "    o3d.io.write_point_cloud(\"D:/sem2/intern/workspace/apple/x_pcd/1/pcd%d.pcd\"%i, pcd1)\n",
    "    print(rgbd_image1)"
   ]
  },
  {
   "cell_type": "code",
   "execution_count": null,
   "metadata": {},
   "outputs": [],
   "source": []
  }
 ],
 "metadata": {
  "kernelspec": {
   "display_name": "Python 3",
   "language": "python",
   "name": "python3"
  },
  "language_info": {
   "codemirror_mode": {
    "name": "ipython",
    "version": 3
   },
   "file_extension": ".py",
   "mimetype": "text/x-python",
   "name": "python",
   "nbconvert_exporter": "python",
   "pygments_lexer": "ipython3",
   "version": "3.10.5"
  },
  "orig_nbformat": 4,
  "vscode": {
   "interpreter": {
    "hash": "a4b75115b07bd9f66585727a34fe1cc852f2dfd51495e71583a23a1899c95d05"
   }
  }
 },
 "nbformat": 4,
 "nbformat_minor": 2
}
