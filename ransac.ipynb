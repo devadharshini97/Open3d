{
 "cells": [
  {
   "cell_type": "code",
   "execution_count": 103,
   "metadata": {},
   "outputs": [],
   "source": [
    "import open3d as o3d\n",
    "import copy\n",
    "import numpy as np\n",
    "#from mesh import*"
   ]
  },
  {
   "cell_type": "code",
   "execution_count": 104,
   "metadata": {},
   "outputs": [],
   "source": [
    "def draw_registration_result(source, target, transformation):\n",
    "    source_temp = copy.deepcopy(source)\n",
    "    target_temp = copy.deepcopy(target)\n",
    "    #source_temp.paint_uniform_color([1, 0.706, 0])\n",
    "    #target_temp.paint_uniform_color([0, 0.651, 0.929])\n",
    "    source_temp.transform(transformation)\n",
    "    pcd_plus = source_temp + target_temp\n",
    "    # o3d.visualization.draw_geometries([source_temp, target_temp],\n",
    "    #                                   zoom=0.4559,\n",
    "    #                                   front=[0.6452, -0.3036, -0.7011],\n",
    "    #                                   lookat=[1.9892, 2.0208, 1.8945],\n",
    "    #                                   up=[-0.2779, -0.9482, 0.1556])\n",
    "    #o3d.visualization.draw_geometries([pcd_plus])\n",
    "    return pcd_plus"
   ]
  },
  {
   "cell_type": "code",
   "execution_count": 105,
   "metadata": {},
   "outputs": [],
   "source": [
    "def preprocess_point_cloud(pcd,voxel_size):\n",
    "    print(\":: Downsample with a voxel size %.3f.\" % voxel_size)\n",
    "    pcd_down = pcd.voxel_down_sample(voxel_size)\n",
    "\n",
    "    radius_normal = voxel_size * 2\n",
    "    print(\":: Estimate normal with search radius %.3f.\" % radius_normal)\n",
    "    pcd_down.estimate_normals(\n",
    "        o3d.geometry.KDTreeSearchParamHybrid(radius=radius_normal, max_nn=30))\n",
    "\n",
    "    radius_feature = voxel_size * 5\n",
    "    print(\":: Compute FPFH feature with search radius %.3f.\" % radius_feature)\n",
    "    pcd_fpfh = o3d.pipelines.registration.compute_fpfh_feature(\n",
    "        pcd_down,\n",
    "        o3d.geometry.KDTreeSearchParamHybrid(radius=radius_feature, max_nn=100))\n",
    "    return pcd_down, pcd_fpfh"
   ]
  },
  {
   "cell_type": "code",
   "execution_count": 106,
   "metadata": {},
   "outputs": [],
   "source": [
    "def global_registration(source,target,voxel_size):\n",
    "    target_down, target_fpfh = preprocess_point_cloud(target, voxel_size)\n",
    "    source_down, source_fpfh = preprocess_point_cloud(source, voxel_size)\n",
    "    distance_threshold = voxel_size * 1.5\n",
    "    result = o3d.pipelines.registration.registration_ransac_based_on_feature_matching(\n",
    "        source_down, target_down, source_fpfh, target_fpfh, True,\n",
    "        distance_threshold,\n",
    "        o3d.pipelines.registration.TransformationEstimationPointToPoint(True),\n",
    "        3, [\n",
    "            o3d.pipelines.registration.CorrespondenceCheckerBasedOnEdgeLength(\n",
    "                0.9),\n",
    "            o3d.pipelines.registration.CorrespondenceCheckerBasedOnDistance(\n",
    "                distance_threshold)\n",
    "        ], o3d.pipelines.registration.RANSACConvergenceCriteria(100000, 0.999))\n",
    "    ransac_result = draw_registration_result(source_down, target_down, result.transformation)\n",
    "    return ransac_result"
   ]
  },
  {
   "cell_type": "code",
   "execution_count": 107,
   "metadata": {},
   "outputs": [
    {
     "name": "stdout",
     "output_type": "stream",
     "text": [
      ":: Downsample with a voxel size 0.002.\n",
      ":: Estimate normal with search radius 0.005.\n",
      ":: Compute FPFH feature with search radius 0.011.\n",
      ":: Downsample with a voxel size 0.002.\n",
      ":: Estimate normal with search radius 0.005.\n",
      ":: Compute FPFH feature with search radius 0.011.\n",
      ":: Downsample with a voxel size 0.002.\n",
      ":: Estimate normal with search radius 0.005.\n",
      ":: Compute FPFH feature with search radius 0.011.\n",
      ":: Downsample with a voxel size 0.002.\n",
      ":: Estimate normal with search radius 0.005.\n",
      ":: Compute FPFH feature with search radius 0.011.\n",
      ":: Downsample with a voxel size 0.002.\n",
      ":: Estimate normal with search radius 0.005.\n",
      ":: Compute FPFH feature with search radius 0.012.\n",
      ":: Downsample with a voxel size 0.002.\n",
      ":: Estimate normal with search radius 0.005.\n",
      ":: Compute FPFH feature with search radius 0.012.\n",
      ":: Downsample with a voxel size 0.002.\n",
      ":: Estimate normal with search radius 0.005.\n",
      ":: Compute FPFH feature with search radius 0.012.\n",
      ":: Downsample with a voxel size 0.002.\n",
      ":: Estimate normal with search radius 0.005.\n",
      ":: Compute FPFH feature with search radius 0.012.\n",
      ":: Downsample with a voxel size 0.002.\n",
      ":: Estimate normal with search radius 0.005.\n",
      ":: Compute FPFH feature with search radius 0.012.\n",
      ":: Downsample with a voxel size 0.002.\n",
      ":: Estimate normal with search radius 0.005.\n",
      ":: Compute FPFH feature with search radius 0.012.\n",
      ":: Downsample with a voxel size 0.002.\n",
      ":: Estimate normal with search radius 0.005.\n",
      ":: Compute FPFH feature with search radius 0.012.\n",
      ":: Downsample with a voxel size 0.002.\n",
      ":: Estimate normal with search radius 0.005.\n",
      ":: Compute FPFH feature with search radius 0.012.\n",
      ":: Downsample with a voxel size 0.002.\n",
      ":: Estimate normal with search radius 0.005.\n",
      ":: Compute FPFH feature with search radius 0.012.\n",
      ":: Downsample with a voxel size 0.002.\n",
      ":: Estimate normal with search radius 0.005.\n",
      ":: Compute FPFH feature with search radius 0.012.\n"
     ]
    }
   ],
   "source": [
    "target = o3d.io.read_point_cloud(\"D:/sem2/intern/workspace/apple/x_pcd/1/pcd0.pcd\")\n",
    "for i in [11,23,68,80,90,111,125]:\n",
    "    voxel_size=round(max(target.get_max_bound()-target.get_min_bound())*0.005,4)\n",
    "    source = o3d.io.read_point_cloud(\"D:/sem2/intern/workspace/apple/x_pcd/1/pcd%d.pcd\" %i)\n",
    "    target = global_registration(source,target,voxel_size)\n",
    "o3d.visualization.draw_geometries([target])\n",
    "    "
   ]
  },
  {
   "cell_type": "code",
   "execution_count": 108,
   "metadata": {},
   "outputs": [
    {
     "name": "stdout",
     "output_type": "stream",
     "text": [
      "alpha=0.010\n",
      "[Open3D WARNING] [CreateFromPointCloudAlphaShape] invalid tetra in TetraMesh\n",
      "[Open3D WARNING] [CreateFromPointCloudAlphaShape] invalid tetra in TetraMesh\n",
      "[Open3D WARNING] [CreateFromPointCloudAlphaShape] invalid tetra in TetraMesh\n",
      "[Open3D WARNING] [CreateFromPointCloudAlphaShape] invalid tetra in TetraMesh\n",
      "[Open3D WARNING] [CreateFromPointCloudAlphaShape] invalid tetra in TetraMesh\n",
      "[Open3D WARNING] [CreateFromPointCloudAlphaShape] invalid tetra in TetraMesh\n",
      "[Open3D WARNING] [CreateFromPointCloudAlphaShape] invalid tetra in TetraMesh\n",
      "[Open3D WARNING] [CreateFromPointCloudAlphaShape] invalid tetra in TetraMesh\n",
      "[Open3D WARNING] [CreateFromPointCloudAlphaShape] invalid tetra in TetraMesh\n"
     ]
    }
   ],
   "source": [
    "def alpha_mesh(pcd_combined):\n",
    "    alpha = 0.01\n",
    "    print(f\"alpha={alpha:.3f}\")\n",
    "    mesh = o3d.geometry.TriangleMesh.create_from_point_cloud_alpha_shape(pcd_combined, alpha)\n",
    "    mesh.compute_vertex_normals()\n",
    "    return mesh\n",
    "\n",
    "def ball_pivoting_reconstruction(pcd_combined,radii=None):\n",
    "  pcd_combined.estimate_normals()\n",
    "  if radii is None:\n",
    "        distances = pcd_combined.compute_nearest_neighbor_distance()\n",
    "        avg_dist = np.mean(distances)\n",
    "        radius = 1.5 * avg_dist   \n",
    "        radii = [radius, radius * 2]\n",
    "        print(radius,radii)\n",
    "  mesh  = o3d.geometry.TriangleMesh.create_from_point_cloud_ball_pivoting(\n",
    "    pcd_combined, o3d.utility.DoubleVector(radii))\n",
    "  return mesh\n",
    "\n",
    "def poisson_mesh(pcd_combined):\n",
    "    poisson_mesh = o3d.geometry.TriangleMesh.create_from_point_cloud_poisson(pcd_combined, depth=8, width=0, scale=1.1, linear_fit=False)[0]\n",
    "# with o3d.utility.VerbosityContextManager(\n",
    "#         o3d.utility.VerbosityLevel.Debug) as cm:\n",
    "#     mesh, densities = o3d.geometry.TriangleMesh.create_from_point_cloud_poisson(\n",
    "#         pcd_combined, depth=9)\n",
    "    return poisson_mesh\n",
    "\n",
    "alpha_mesh = alpha_mesh(target)\n",
    "o3d.visualization.draw_geometries([alpha_mesh])"
   ]
  },
  {
   "cell_type": "code",
   "execution_count": 109,
   "metadata": {},
   "outputs": [
    {
     "name": "stdout",
     "output_type": "stream",
     "text": [
      "0.0026829465773706217 [0.0026829465773706217, 0.005365893154741243]\n"
     ]
    }
   ],
   "source": [
    "bp_mesh = ball_pivoting_reconstruction(target,None)\n",
    "o3d.visualization.draw_geometries([target,bp_mesh])"
   ]
  },
  {
   "cell_type": "code",
   "execution_count": 110,
   "metadata": {},
   "outputs": [],
   "source": [
    "poisson_mesh = poisson_mesh(target)\n",
    "o3d.visualization.draw_geometries([poisson_mesh])"
   ]
  },
  {
   "cell_type": "code",
   "execution_count": null,
   "metadata": {},
   "outputs": [],
   "source": []
  }
 ],
 "metadata": {
  "kernelspec": {
   "display_name": "Python 3",
   "language": "python",
   "name": "python3"
  },
  "language_info": {
   "codemirror_mode": {
    "name": "ipython",
    "version": 3
   },
   "file_extension": ".py",
   "mimetype": "text/x-python",
   "name": "python",
   "nbconvert_exporter": "python",
   "pygments_lexer": "ipython3",
   "version": "3.10.5"
  },
  "orig_nbformat": 4,
  "vscode": {
   "interpreter": {
    "hash": "a4b75115b07bd9f66585727a34fe1cc852f2dfd51495e71583a23a1899c95d05"
   }
  }
 },
 "nbformat": 4,
 "nbformat_minor": 2
}
