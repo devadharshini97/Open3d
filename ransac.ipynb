{
 "cells": [
  {
   "cell_type": "code",
   "execution_count": 82,
   "metadata": {},
   "outputs": [
    {
     "ename": "ModuleNotFoundError",
     "evalue": "No module named 'single_image'",
     "output_type": "error",
     "traceback": [
      "\u001b[1;31m---------------------------------------------------------------------------\u001b[0m",
      "\u001b[1;31mModuleNotFoundError\u001b[0m                       Traceback (most recent call last)",
      "Cell \u001b[1;32mIn[82], line 4\u001b[0m\n\u001b[0;32m      2\u001b[0m \u001b[39mimport\u001b[39;00m \u001b[39mcopy\u001b[39;00m\n\u001b[0;32m      3\u001b[0m \u001b[39mimport\u001b[39;00m \u001b[39mnumpy\u001b[39;00m \u001b[39mas\u001b[39;00m \u001b[39mnp\u001b[39;00m\n\u001b[1;32m----> 4\u001b[0m \u001b[39mimport\u001b[39;00m \u001b[39msingle_image\u001b[39;00m \u001b[39mas\u001b[39;00m \u001b[39msi\u001b[39;00m\n",
      "\u001b[1;31mModuleNotFoundError\u001b[0m: No module named 'single_image'"
     ]
    }
   ],
   "source": [
    "import open3d as o3d\n",
    "import copy\n",
    "import numpy as np\n",
    "import single_image as si"
   ]
  },
  {
   "cell_type": "code",
   "execution_count": 76,
   "metadata": {},
   "outputs": [],
   "source": [
    "def draw_registration_result(source, target, transformation):\n",
    "    source_temp = copy.deepcopy(source)\n",
    "    target_temp = copy.deepcopy(target)\n",
    "    #source_temp.paint_uniform_color([1, 0.706, 0])\n",
    "    #target_temp.paint_uniform_color([0, 0.651, 0.929])\n",
    "    source_temp.transform(transformation)\n",
    "    pcd_plus = source_temp + target_temp\n",
    "    # o3d.visualization.draw_geometries([source_temp, target_temp],\n",
    "    #                                   zoom=0.4559,\n",
    "    #                                   front=[0.6452, -0.3036, -0.7011],\n",
    "    #                                   lookat=[1.9892, 2.0208, 1.8945],\n",
    "    #                                   up=[-0.2779, -0.9482, 0.1556])\n",
    "    #o3d.visualization.draw_geometries([pcd_plus])\n",
    "    return pcd_plus"
   ]
  },
  {
   "cell_type": "code",
   "execution_count": 77,
   "metadata": {},
   "outputs": [],
   "source": [
    "def preprocess_point_cloud(pcd,voxel_size):\n",
    "    print(\":: Downsample with a voxel size %.3f.\" % voxel_size)\n",
    "    pcd_down = pcd.voxel_down_sample(voxel_size)\n",
    "\n",
    "    radius_normal = voxel_size * 2\n",
    "    print(\":: Estimate normal with search radius %.3f.\" % radius_normal)\n",
    "    pcd_down.estimate_normals(\n",
    "        o3d.geometry.KDTreeSearchParamHybrid(radius=radius_normal, max_nn=30))\n",
    "\n",
    "    radius_feature = voxel_size * 5\n",
    "    print(\":: Compute FPFH feature with search radius %.3f.\" % radius_feature)\n",
    "    pcd_fpfh = o3d.pipelines.registration.compute_fpfh_feature(\n",
    "        pcd_down,\n",
    "        o3d.geometry.KDTreeSearchParamHybrid(radius=radius_feature, max_nn=100))\n",
    "    return pcd_down, pcd_fpfh"
   ]
  },
  {
   "cell_type": "code",
   "execution_count": 78,
   "metadata": {},
   "outputs": [],
   "source": [
    "def global_registration(source,target,voxel_size):\n",
    "    target_down, target_fpfh = preprocess_point_cloud(target, voxel_size)\n",
    "    source_down, source_fpfh = preprocess_point_cloud(source, voxel_size)\n",
    "    distance_threshold = voxel_size * 1.5\n",
    "    result = o3d.pipelines.registration.registration_ransac_based_on_feature_matching(\n",
    "        source_down, target_down, source_fpfh, target_fpfh, True,\n",
    "        distance_threshold,\n",
    "        o3d.pipelines.registration.TransformationEstimationPointToPoint(True),\n",
    "        3, [\n",
    "            o3d.pipelines.registration.CorrespondenceCheckerBasedOnEdgeLength(\n",
    "                0.9),\n",
    "            o3d.pipelines.registration.CorrespondenceCheckerBasedOnDistance(\n",
    "                distance_threshold)\n",
    "        ], o3d.pipelines.registration.RANSACConvergenceCriteria(100000, 0.999))\n",
    "    ransac_result = draw_registration_result(source_down, target_down, result.transformation)\n",
    "    return ransac_result"
   ]
  },
  {
   "cell_type": "code",
   "execution_count": 79,
   "metadata": {},
   "outputs": [
    {
     "name": "stdout",
     "output_type": "stream",
     "text": [
      ":: Downsample with a voxel size 0.002.\n",
      ":: Estimate normal with search radius 0.005.\n",
      ":: Compute FPFH feature with search radius 0.011.\n",
      ":: Downsample with a voxel size 0.002.\n",
      ":: Estimate normal with search radius 0.005.\n",
      ":: Compute FPFH feature with search radius 0.011.\n",
      ":: Downsample with a voxel size 0.002.\n",
      ":: Estimate normal with search radius 0.005.\n",
      ":: Compute FPFH feature with search radius 0.011.\n",
      ":: Downsample with a voxel size 0.002.\n",
      ":: Estimate normal with search radius 0.005.\n",
      ":: Compute FPFH feature with search radius 0.011.\n",
      ":: Downsample with a voxel size 0.002.\n",
      ":: Estimate normal with search radius 0.005.\n",
      ":: Compute FPFH feature with search radius 0.011.\n",
      ":: Downsample with a voxel size 0.002.\n",
      ":: Estimate normal with search radius 0.005.\n",
      ":: Compute FPFH feature with search radius 0.011.\n",
      ":: Downsample with a voxel size 0.002.\n",
      ":: Estimate normal with search radius 0.005.\n",
      ":: Compute FPFH feature with search radius 0.011.\n",
      ":: Downsample with a voxel size 0.002.\n",
      ":: Estimate normal with search radius 0.005.\n",
      ":: Compute FPFH feature with search radius 0.011.\n",
      ":: Downsample with a voxel size 0.002.\n",
      ":: Estimate normal with search radius 0.005.\n",
      ":: Compute FPFH feature with search radius 0.011.\n",
      ":: Downsample with a voxel size 0.002.\n",
      ":: Estimate normal with search radius 0.005.\n",
      ":: Compute FPFH feature with search radius 0.011.\n",
      ":: Downsample with a voxel size 0.002.\n",
      ":: Estimate normal with search radius 0.005.\n",
      ":: Compute FPFH feature with search radius 0.012.\n",
      ":: Downsample with a voxel size 0.002.\n",
      ":: Estimate normal with search radius 0.005.\n",
      ":: Compute FPFH feature with search radius 0.012.\n",
      ":: Downsample with a voxel size 0.002.\n",
      ":: Estimate normal with search radius 0.005.\n",
      ":: Compute FPFH feature with search radius 0.012.\n",
      ":: Downsample with a voxel size 0.002.\n",
      ":: Estimate normal with search radius 0.005.\n",
      ":: Compute FPFH feature with search radius 0.012.\n"
     ]
    }
   ],
   "source": [
    "target = o3d.io.read_point_cloud(\"D:/sem2/intern/workspace/apple/x_pcd/1/pcd0.pcd\")\n",
    "for i in [11,23,68,80,90,111,125]:\n",
    "    voxel_size=round(max(target.get_max_bound()-target.get_min_bound())*0.005,4)\n",
    "    source = o3d.io.read_point_cloud(\"D:/sem2/intern/workspace/apple/x_pcd/1/pcd%d.pcd\" %i)\n",
    "    target = global_registration(source,target,voxel_size)\n",
    "o3d.visualization.draw_geometries([target])\n",
    "    "
   ]
  },
  {
   "cell_type": "code",
   "execution_count": 80,
   "metadata": {},
   "outputs": [
    {
     "ename": "NameError",
     "evalue": "name 'si' is not defined",
     "output_type": "error",
     "traceback": [
      "\u001b[1;31m---------------------------------------------------------------------------\u001b[0m",
      "\u001b[1;31mNameError\u001b[0m                                 Traceback (most recent call last)",
      "Cell \u001b[1;32mIn[80], line 2\u001b[0m\n\u001b[0;32m      1\u001b[0m pcd_combined \u001b[39m=\u001b[39m target\n\u001b[1;32m----> 2\u001b[0m alpha_mesh \u001b[39m=\u001b[39m si\u001b[39m.\u001b[39malpha_mesh()\n\u001b[0;32m      3\u001b[0m o3d\u001b[39m.\u001b[39mvisualization\u001b[39m.\u001b[39mdraw_geometries([alpha_mesh])\n",
      "\u001b[1;31mNameError\u001b[0m: name 'si' is not defined"
     ]
    }
   ],
   "source": [
    "pcd_combined = target\n",
    "alpha_mesh = si.alpha_mesh()\n",
    "o3d.visualization.draw_geometries([alpha_mesh])"
   ]
  },
  {
   "cell_type": "code",
   "execution_count": null,
   "metadata": {},
   "outputs": [],
   "source": []
  }
 ],
 "metadata": {
  "kernelspec": {
   "display_name": "Python 3",
   "language": "python",
   "name": "python3"
  },
  "language_info": {
   "codemirror_mode": {
    "name": "ipython",
    "version": 3
   },
   "file_extension": ".py",
   "mimetype": "text/x-python",
   "name": "python",
   "nbconvert_exporter": "python",
   "pygments_lexer": "ipython3",
   "version": "3.10.5"
  },
  "orig_nbformat": 4,
  "vscode": {
   "interpreter": {
    "hash": "a4b75115b07bd9f66585727a34fe1cc852f2dfd51495e71583a23a1899c95d05"
   }
  }
 },
 "nbformat": 4,
 "nbformat_minor": 2
}
