{
 "cells": [
  {
   "cell_type": "code",
   "execution_count": 3,
   "metadata": {},
   "outputs": [
    {
     "name": "stdout",
     "output_type": "stream",
     "text": [
      "Jupyter environment detected. Enabling Open3D WebVisualizer.\n",
      "[Open3D INFO] WebRTC GUI backend enabled.\n",
      "[Open3D INFO] WebRTCWindowSystem: HTTP handshake server disabled.\n"
     ]
    }
   ],
   "source": [
    "import open3d as o3d\n",
    "import copy\n",
    "import numpy as np"
   ]
  },
  {
   "cell_type": "code",
   "execution_count": 4,
   "metadata": {},
   "outputs": [],
   "source": [
    "def draw_registration_result(source, target, transformation):\n",
    "    source_temp = copy.deepcopy(source)\n",
    "    target_temp = copy.deepcopy(target)\n",
    "    #source_temp.paint_uniform_color([1, 0.706, 0])\n",
    "    #target_temp.paint_uniform_color([0, 0.651, 0.929])\n",
    "    source_temp.transform(transformation)\n",
    "    pcd_plus = source_temp + target_temp\n",
    "    # o3d.visualization.draw_geometries([source_temp, target_temp],\n",
    "    #                                   zoom=0.4559,\n",
    "    #                                   front=[0.6452, -0.3036, -0.7011],\n",
    "    #                                   lookat=[1.9892, 2.0208, 1.8945],\n",
    "    #                                   up=[-0.2779, -0.9482, 0.1556])\n",
    "    #o3d.visualization.draw_geometries([pcd_plus])\n",
    "    return pcd_plus"
   ]
  },
  {
   "cell_type": "code",
   "execution_count": 5,
   "metadata": {},
   "outputs": [],
   "source": [
    "def preprocess_point_cloud(pcd,voxel_size):\n",
    "    print(\":: Downsample with a voxel size %.3f.\" % voxel_size)\n",
    "    pcd_down = pcd.voxel_down_sample(voxel_size)\n",
    "\n",
    "    radius_normal = voxel_size * 2\n",
    "    print(\":: Estimate normal with search radius %.3f.\" % radius_normal)\n",
    "    pcd_down.estimate_normals(\n",
    "        o3d.geometry.KDTreeSearchParamHybrid(radius=radius_normal, max_nn=30))\n",
    "\n",
    "    radius_feature = voxel_size * 5\n",
    "    print(\":: Compute FPFH feature with search radius %.3f.\" % radius_feature)\n",
    "    pcd_fpfh = o3d.pipelines.registration.compute_fpfh_feature(\n",
    "        pcd_down,\n",
    "        o3d.geometry.KDTreeSearchParamHybrid(radius=radius_feature, max_nn=100))\n",
    "    return pcd_down, pcd_fpfh"
   ]
  },
  {
   "cell_type": "code",
   "execution_count": 20,
   "metadata": {},
   "outputs": [],
   "source": [
    "def fast_global_registration(source,target,voxel_size):\n",
    "    target_down, target_fpfh = preprocess_point_cloud(target, voxel_size)\n",
    "    source_down, source_fpfh = preprocess_point_cloud(source, voxel_size)\n",
    "    distance_threshold = voxel_size * 0.5\n",
    "    result = o3d.pipelines.registration.registration_fgr_based_on_feature_matching(\n",
    "        source_down, target_down, source_fpfh, target_fpfh,\n",
    "        o3d.pipelines.registration.FastGlobalRegistrationOption(\n",
    "            maximum_correspondence_distance=distance_threshold))\n",
    "    fast_global_registration_result = draw_registration_result(source_down, target_down, result.transformation)\n",
    "    return fast_global_registration_result"
   ]
  },
  {
   "cell_type": "code",
   "execution_count": 21,
   "metadata": {},
   "outputs": [],
   "source": [
    "def point_to_plane(source,target):\n",
    "   current_transformation = np.identity(4)\n",
    "   result_icp = o3d.pipelines.registration.registration_icp(\n",
    "    source, target, 0.02, current_transformation,\n",
    "    o3d.pipelines.registration.TransformationEstimationPointToPlane())\n",
    "   return result_icp"
   ]
  },
  {
   "cell_type": "code",
   "execution_count": 6,
   "metadata": {},
   "outputs": [],
   "source": [
    "def colored_icp(source,target,voxel_size):\n",
    "    current_transformation = np.identity(4)\n",
    "    max_iter = [50,30,14]\n",
    "    voxel_radius = [voxel_size,voxel_size/2,voxel_size/4]\n",
    "    for i in range(3):\n",
    "        iter = max_iter[i]\n",
    "        radius = voxel_radius[i]\n",
    "        target_down, target_fpfh = preprocess_point_cloud(target, voxel_size)\n",
    "        source_down, source_fpfh = preprocess_point_cloud(source, voxel_size)\n",
    "        result_icp = o3d.pipelines.registration.registration_colored_icp(\n",
    "        source_down, target_down, radius, current_transformation,\n",
    "        o3d.pipelines.registration.TransformationEstimationForColoredICP(),\n",
    "        o3d.pipelines.registration.ICPConvergenceCriteria(relative_fitness=1e-6,\n",
    "                                                          relative_rmse=1e-6,\n",
    "                                                          max_iteration=iter))\n",
    "        current_transformation = result_icp.transformation\n",
    "        colored_icp = draw_registration_result(source_down, target_down, result_icp.transformation)\n",
    "        return colored_icp"
   ]
  },
  {
   "cell_type": "code",
   "execution_count": 19,
   "metadata": {},
   "outputs": [
    {
     "name": "stdout",
     "output_type": "stream",
     "text": [
      ":: Downsample with a voxel size 0.002.\n",
      ":: Estimate normal with search radius 0.005.\n",
      ":: Compute FPFH feature with search radius 0.011.\n",
      ":: Downsample with a voxel size 0.002.\n",
      ":: Estimate normal with search radius 0.005.\n",
      ":: Compute FPFH feature with search radius 0.011.\n",
      ":: Downsample with a voxel size 0.002.\n",
      ":: Estimate normal with search radius 0.005.\n",
      ":: Compute FPFH feature with search radius 0.012.\n",
      ":: Downsample with a voxel size 0.002.\n",
      ":: Estimate normal with search radius 0.005.\n",
      ":: Compute FPFH feature with search radius 0.012.\n",
      ":: Downsample with a voxel size 0.002.\n",
      ":: Estimate normal with search radius 0.005.\n",
      ":: Compute FPFH feature with search radius 0.012.\n",
      ":: Downsample with a voxel size 0.002.\n",
      ":: Estimate normal with search radius 0.005.\n",
      ":: Compute FPFH feature with search radius 0.012.\n",
      ":: Downsample with a voxel size 0.002.\n",
      ":: Estimate normal with search radius 0.005.\n",
      ":: Compute FPFH feature with search radius 0.012.\n",
      ":: Downsample with a voxel size 0.002.\n",
      ":: Estimate normal with search radius 0.005.\n",
      ":: Compute FPFH feature with search radius 0.012.\n",
      ":: Downsample with a voxel size 0.002.\n",
      ":: Estimate normal with search radius 0.005.\n",
      ":: Compute FPFH feature with search radius 0.012.\n",
      ":: Downsample with a voxel size 0.002.\n",
      ":: Estimate normal with search radius 0.005.\n",
      ":: Compute FPFH feature with search radius 0.012.\n",
      ":: Downsample with a voxel size 0.003.\n",
      ":: Estimate normal with search radius 0.005.\n",
      ":: Compute FPFH feature with search radius 0.013.\n",
      ":: Downsample with a voxel size 0.003.\n",
      ":: Estimate normal with search radius 0.005.\n",
      ":: Compute FPFH feature with search radius 0.013.\n",
      ":: Downsample with a voxel size 0.003.\n",
      ":: Estimate normal with search radius 0.005.\n",
      ":: Compute FPFH feature with search radius 0.013.\n",
      ":: Downsample with a voxel size 0.003.\n",
      ":: Estimate normal with search radius 0.005.\n",
      ":: Compute FPFH feature with search radius 0.013.\n"
     ]
    }
   ],
   "source": [
    "target = o3d.io.read_point_cloud(\"D:/sem2/intern/workspace/apple/y_pcd/1/pcd0.pcd\")\n",
    "for i in [11,23,68,80,90,111,125]:\n",
    "    voxel_size=round(max(target.get_max_bound()-target.get_min_bound())*0.005,4)\n",
    "    source = o3d.io.read_point_cloud(\"D:/sem2/intern/workspace/apple/y_pcd/1/pcd%d.pcd\" %i)\n",
    "    target = fast_global_registration(source,target,voxel_size)\n",
    "o3d.visualization.draw_geometries([target])\n",
    "    "
   ]
  },
  {
   "cell_type": "code",
   "execution_count": 14,
   "metadata": {},
   "outputs": [
    {
     "name": "stdout",
     "output_type": "stream",
     "text": [
      ":: Downsample with a voxel size 0.002.\n",
      ":: Estimate normal with search radius 0.005.\n",
      ":: Compute FPFH feature with search radius 0.011.\n",
      ":: Downsample with a voxel size 0.002.\n",
      ":: Estimate normal with search radius 0.005.\n",
      ":: Compute FPFH feature with search radius 0.011.\n",
      ":: Downsample with a voxel size 0.003.\n",
      ":: Estimate normal with search radius 0.005.\n",
      ":: Compute FPFH feature with search radius 0.013.\n",
      ":: Downsample with a voxel size 0.003.\n",
      ":: Estimate normal with search radius 0.005.\n",
      ":: Compute FPFH feature with search radius 0.013.\n",
      ":: Downsample with a voxel size 0.003.\n",
      ":: Estimate normal with search radius 0.005.\n",
      ":: Compute FPFH feature with search radius 0.013.\n",
      ":: Downsample with a voxel size 0.003.\n",
      ":: Estimate normal with search radius 0.005.\n",
      ":: Compute FPFH feature with search radius 0.013.\n"
     ]
    }
   ],
   "source": [
    "target = o3d.io.read_point_cloud(\"D:/sem2/intern/workspace/apple/x_pcd/1/pcd0.pcd\")\n",
    "for i in range(1,4):\n",
    "    voxel_size=round(max(target.get_max_bound()-target.get_min_bound())*0.005,4)\n",
    "    source = o3d.io.read_point_cloud(\"D:/sem2/intern/workspace/apple/x_pcd/1/pcd%d.pcd\" %i)\n",
    "    target = colored_icp(source,target,voxel_size)\n",
    "o3d.visualization.draw_geometries([target])"
   ]
  },
  {
   "cell_type": "code",
   "execution_count": null,
   "metadata": {},
   "outputs": [],
   "source": []
  }
 ],
 "metadata": {
  "kernelspec": {
   "display_name": "Python 3",
   "language": "python",
   "name": "python3"
  },
  "language_info": {
   "codemirror_mode": {
    "name": "ipython",
    "version": 3
   },
   "file_extension": ".py",
   "mimetype": "text/x-python",
   "name": "python",
   "nbconvert_exporter": "python",
   "pygments_lexer": "ipython3",
   "version": "3.10.5"
  },
  "orig_nbformat": 4,
  "vscode": {
   "interpreter": {
    "hash": "a4b75115b07bd9f66585727a34fe1cc852f2dfd51495e71583a23a1899c95d05"
   }
  }
 },
 "nbformat": 4,
 "nbformat_minor": 2
}
